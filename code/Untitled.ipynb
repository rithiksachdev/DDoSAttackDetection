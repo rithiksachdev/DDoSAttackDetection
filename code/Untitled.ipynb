{
 "cells": [
  {
   "cell_type": "code",
   "execution_count": 3,
   "metadata": {},
   "outputs": [],
   "source": [
    "from select_features import selectfeatures"
   ]
  },
  {
   "cell_type": "code",
   "execution_count": 5,
   "metadata": {},
   "outputs": [
    {
     "name": "stdout",
     "output_type": "stream",
     "text": [
      "------------------------------------| SUMMARY |------------------------------------\n",
      "Execution: 4 , Model: 1\n",
      "Number of features for 99.0 % importance: 19\n",
      "Selected variables:  ['tcp_flags_rte', 'ip_len_cv', 'ip_len_std', 'ip_proto', 'ip_len_var', 'ip_len_mean', 'tcp_flags_mean', 'tcp_flags_median', 'ip_len_entropy', 'ip_len_rte', 'tcp_flags_std', 'sport_entropy', 'tcp_flags_cv', 'sport_rte', 'tcp_flags_var', 'tcp_flags_entropy', 'ip_len_cvq', 'sport_mean', 'sport_median', 'sport_std', 'sport_cvq', 'ip_len_median', 'sport_var', 'sport_cv', 'dport_mean', 'dport_median', 'dport_var', 'dport_std', 'dport_entropy', 'dport_cv', 'dport_cvq', 'dport_rte', 'tcp_flags_cvq']\n",
      "              precision    recall  f1-score   support\n",
      "\n",
      "  http_flood       1.00      1.00      1.00       191\n",
      "   tcp_flood       0.97      0.94      0.96        83\n",
      "   udp_flood       1.00      1.00      1.00     11535\n",
      "      normal       1.00      1.00      1.00      7468\n",
      "   http_slow       1.00      1.00      1.00      3473\n",
      "\n",
      "    accuracy                           1.00     22750\n",
      "   macro avg       0.99      0.99      0.99     22750\n",
      "weighted avg       1.00      1.00      1.00     22750\n",
      "\n",
      "-----------------------------------------------------------------------------------\n",
      "Precision:  0.99960114356678\n",
      "Accuracy:  0.9996043956043956\n",
      "-----------------------------------------------------------------------------------\n",
      "------------------------------------| SUMMARY |------------------------------------\n",
      "Execution: 4 , Model: 2\n",
      "Number of features for 99.0 % importance: 15\n",
      "Selected variables:  ['ip_len_mean', 'tcp_flags_rte', 'ip_len_var', 'ip_len_std', 'ip_len_cv', 'ip_proto', 'tcp_flags_median', 'ip_len_entropy', 'tcp_flags_mean', 'ip_len_rte', 'tcp_flags_var', 'tcp_flags_std', 'sport_entropy', 'tcp_flags_cv', 'sport_rte', 'tcp_flags_entropy', 'sport_mean', 'sport_median', 'ip_len_cvq']\n",
      "              precision    recall  f1-score   support\n",
      "\n",
      "  http_flood       1.00      0.99      1.00       186\n",
      "   tcp_flood       0.95      0.88      0.92        86\n",
      "   udp_flood       1.00      1.00      1.00     11513\n",
      "      normal       1.00      1.00      1.00      7440\n",
      "   http_slow       1.00      1.00      1.00      3525\n",
      "\n",
      "    accuracy                           1.00     22750\n",
      "   macro avg       0.99      0.98      0.98     22750\n",
      "weighted avg       1.00      1.00      1.00     22750\n",
      "\n",
      "-----------------------------------------------------------------------------------\n",
      "Precision:  0.9992398309879776\n",
      "Accuracy:  0.9992527472527473\n",
      "-----------------------------------------------------------------------------------\n",
      "------------------------------------| SUMMARY |------------------------------------\n",
      "Execution: 4 , Model: 3\n",
      "Number of features for 99.0 % importance: 12\n",
      "Selected variables:  ['ip_len_var', 'ip_len_cv', 'tcp_flags_rte', 'ip_len_mean', 'ip_len_std', 'tcp_flags_mean', 'ip_proto', 'tcp_flags_median', 'ip_len_rte', 'ip_len_entropy', 'tcp_flags_var', 'tcp_flags_std', 'sport_entropy', 'tcp_flags_cv', 'sport_rte']\n",
      "              precision    recall  f1-score   support\n",
      "\n",
      "  http_flood       0.99      0.99      0.99       166\n",
      "   tcp_flood       1.00      0.04      0.08        93\n",
      "   udp_flood       1.00      1.00      1.00     11513\n",
      "      normal       0.99      1.00      0.99      7563\n",
      "   http_slow       1.00      1.00      1.00      3415\n",
      "\n",
      "    accuracy                           1.00     22750\n",
      "   macro avg       1.00      0.81      0.81     22750\n",
      "weighted avg       1.00      1.00      0.99     22750\n",
      "\n",
      "-----------------------------------------------------------------------------------\n",
      "Precision:  0.9958712047456577\n",
      "Accuracy:  0.9958241758241758\n",
      "-----------------------------------------------------------------------------------\n",
      "------------------------------------| SUMMARY |------------------------------------\n",
      "Execution: 4 , Model: 4\n",
      "Number of features for 99.0 % importance: 10\n",
      "Selected variables:  ['ip_len_cv', 'ip_len_mean', 'tcp_flags_rte', 'ip_len_std', 'ip_proto', 'ip_len_var', 'tcp_flags_mean', 'ip_len_entropy', 'tcp_flags_median', 'tcp_flags_var', 'tcp_flags_std', 'ip_len_rte']\n",
      "              precision    recall  f1-score   support\n",
      "\n",
      "  http_flood       1.00      1.00      1.00       166\n",
      "   tcp_flood       1.00      0.02      0.04        96\n",
      "   udp_flood       1.00      1.00      1.00     11542\n",
      "      normal       0.99      1.00      0.99      7534\n",
      "   http_slow       1.00      1.00      1.00      3412\n",
      "\n",
      "    accuracy                           1.00     22750\n",
      "   macro avg       1.00      0.80      0.81     22750\n",
      "weighted avg       1.00      1.00      0.99     22750\n",
      "\n",
      "-----------------------------------------------------------------------------------\n",
      "Precision:  0.9957442956497476\n",
      "Accuracy:  0.9956923076923077\n",
      "-----------------------------------------------------------------------------------\n",
      "------------------------------------| SUMMARY |------------------------------------\n",
      "Execution: 4 , Model: 5\n",
      "Number of features for 99.0 % importance: 9\n",
      "Selected variables:  ['ip_len_cv', 'ip_len_var', 'ip_len_std', 'tcp_flags_rte', 'tcp_flags_median', 'ip_len_mean', 'ip_proto', 'ip_len_entropy', 'tcp_flags_mean', 'tcp_flags_var']\n",
      "              precision    recall  f1-score   support\n",
      "\n",
      "  http_flood       1.00      0.98      0.99       174\n",
      "   tcp_flood       1.00      0.04      0.08        97\n",
      "   udp_flood       1.00      1.00      1.00     11470\n",
      "      normal       0.99      1.00      0.99      7508\n",
      "   http_slow       1.00      1.00      1.00      3501\n",
      "\n",
      "    accuracy                           1.00     22750\n",
      "   macro avg       1.00      0.80      0.81     22750\n",
      "weighted avg       1.00      1.00      0.99     22750\n",
      "\n",
      "-----------------------------------------------------------------------------------\n",
      "Precision:  0.995609546593834\n",
      "Accuracy:  0.9955604395604396\n",
      "-----------------------------------------------------------------------------------\n"
     ]
    },
    {
     "name": "stderr",
     "output_type": "stream",
     "text": [
      "findfont: Font family ['Times'] not found. Falling back to DejaVu Sans.\n",
      "findfont: Font family ['Times'] not found. Falling back to DejaVu Sans.\n",
      "findfont: Font family ['Times'] not found. Falling back to DejaVu Sans.\n"
     ]
    },
    {
     "name": "stdout",
     "output_type": "stream",
     "text": [
      "***| Stopping-2 |***\n",
      "Model:  6\n",
      "===> Low precision <===\n",
      "Global precision:  0.9935482275058118\n",
      "Per class precision:  [1.         0.6        0.99974048 0.98618491 1.        ]\n",
      "Total of importante features:  8\n",
      "            variables importance\n",
      "                            mean\n",
      "0            dport_cv       0.00\n",
      "1           dport_cvq       0.00\n",
      "2       dport_entropy       0.00\n",
      "3          dport_mean       0.00\n",
      "4        dport_median       0.00\n",
      "5           dport_rte       0.00\n",
      "6           dport_std       0.00\n",
      "7           dport_var       0.00\n",
      "17           sport_cv       0.00\n",
      "26      tcp_flags_cvq       0.00\n",
      "24          sport_var       0.00\n",
      "12      ip_len_median       0.00\n",
      "20         sport_mean       0.01\n",
      "21       sport_median       0.01\n",
      "9          ip_len_cvq       0.01\n",
      "23          sport_std       0.01\n",
      "18          sport_cvq       0.01\n",
      "27  tcp_flags_entropy       0.02\n",
      "22          sport_rte       0.02\n",
      "32      tcp_flags_var       0.02\n",
      "25       tcp_flags_cv       0.03\n",
      "19      sport_entropy       0.03\n",
      "31      tcp_flags_std       0.04\n",
      "13         ip_len_rte       0.05\n",
      "10     ip_len_entropy       0.05\n",
      "29   tcp_flags_median       0.06\n",
      "11        ip_len_mean       0.07\n",
      "28     tcp_flags_mean       0.07\n",
      "15         ip_len_var       0.08\n",
      "16           ip_proto       0.08\n",
      "14         ip_len_std       0.10\n",
      "8           ip_len_cv       0.11\n",
      "30      tcp_flags_rte       0.12\n",
      "====== Cross-validation Train score mean ======\n",
      "Accuracy:  1.0\n",
      "precision:  1.0\n",
      "recall:  1.0\n",
      "f1:  1.0\n",
      "====== Cross-validation Test score mean ======\n",
      "Accuracy:  0.9996\n",
      "precision:  0.9996\n",
      "recall:  0.9996\n",
      "f1:  0.9996\n"
     ]
    },
    {
     "name": "stderr",
     "output_type": "stream",
     "text": [
      "[Parallel(n_jobs=1)]: Using backend SequentialBackend with 1 concurrent workers.\n",
      "[Parallel(n_jobs=1)]: Done  10 out of  10 | elapsed:   37.8s finished\n"
     ]
    },
    {
     "name": "stdout",
     "output_type": "stream",
     "text": [
      "====================|Cross-validation prediction metrics report |====================\n",
      "              precision    recall  f1-score   support\n",
      "\n",
      "  http_flood       1.00      1.00      1.00       347\n",
      "   tcp_flood       0.99      0.96      0.98       183\n",
      "   udp_flood       1.00      1.00      1.00     23088\n",
      "      normal       1.00      1.00      1.00     14988\n",
      "   http_slow       1.00      1.00      1.00      6894\n",
      "\n",
      "    accuracy                           1.00     45500\n",
      "   macro avg       1.00      0.99      0.99     45500\n",
      "weighted avg       1.00      1.00      1.00     45500\n",
      "\n",
      "Confusion Matrix: \n",
      " [[  346     0     1     0     0]\n",
      " [    0   176     1     6     0]\n",
      " [    1     0 23087     0     0]\n",
      " [    0     1     2 14985     0]\n",
      " [    0     0     0     0  6894]]\n",
      "Confusion matrix, without normalization\n",
      "[[  346     0     1     0     0]\n",
      " [    0   176     1     6     0]\n",
      " [    1     0 23087     0     0]\n",
      " [    0     1     2 14985     0]\n",
      " [    0     0     0     0  6894]]\n",
      "------------------------------------| SUMMARY USING RANDOM FOREST |------------------------------------\n",
      "Test:  5 / 5\n",
      "Selectted variables:  ['dport_cv', 'dport_cvq', 'dport_entropy', 'dport_mean', 'dport_median', 'dport_rte', 'dport_std', 'dport_var', 'sport_cv', 'tcp_flags_cvq', 'sport_var', 'ip_len_median', 'sport_mean', 'sport_median', 'ip_len_cvq', 'sport_std', 'sport_cvq', 'tcp_flags_entropy', 'sport_rte', 'tcp_flags_var', 'tcp_flags_cv', 'sport_entropy', 'tcp_flags_std', 'ip_len_rte', 'ip_len_entropy', 'tcp_flags_median', 'ip_len_mean', 'tcp_flags_mean', 'ip_len_var', 'ip_proto', 'ip_len_std', 'ip_len_cv', 'tcp_flags_rte'] \n",
      " Labels: ['http_flood' 'http_slow' 'normal' 'tcp_flood' 'udp_flood']\n",
      "              precision    recall  f1-score   support\n",
      "\n",
      "  http_flood       1.00      0.99      1.00       167\n",
      "   tcp_flood       1.00      0.95      0.98        84\n",
      "   udp_flood       1.00      1.00      1.00     11574\n",
      "      normal       1.00      1.00      1.00      7492\n",
      "   http_slow       1.00      1.00      1.00      3433\n",
      "\n",
      "    accuracy                           1.00     22750\n",
      "   macro avg       1.00      0.99      0.99     22750\n",
      "weighted avg       1.00      1.00      1.00     22750\n",
      "\n",
      "-----------------------------------------------------------------------------------\n",
      "Precision:  0.9996924936733245\n",
      "Accuracy:  0.9996923076923077\n",
      "-----------------------------------------------------------------------------------\n"
     ]
    },
    {
     "name": "stderr",
     "output_type": "stream",
     "text": [
      "/home/rithik/Desktop/env/lib/python3.8/site-packages/sklearn/metrics/_classification.py:1221: UndefinedMetricWarning: Precision is ill-defined and being set to 0.0 in labels with no predicted samples. Use `zero_division` parameter to control this behavior.\n",
      "  _warn_prf(average, modifier, msg_start, len(result))\n"
     ]
    },
    {
     "name": "stdout",
     "output_type": "stream",
     "text": [
      "------------------------------------| SUMMARY USING MULTINOMIAL NB |------------------------------------\n",
      "Test:  5 / 5\n",
      "Selectted variables:  ['dport_cv', 'dport_cvq', 'dport_entropy', 'dport_mean', 'dport_median', 'dport_rte', 'dport_std', 'dport_var', 'sport_cv', 'tcp_flags_cvq', 'sport_var', 'ip_len_median', 'sport_mean', 'sport_median', 'ip_len_cvq', 'sport_std', 'sport_cvq', 'tcp_flags_entropy', 'sport_rte', 'tcp_flags_var', 'tcp_flags_cv', 'sport_entropy', 'tcp_flags_std', 'ip_len_rte', 'ip_len_entropy', 'tcp_flags_median', 'ip_len_mean', 'tcp_flags_mean', 'ip_len_var', 'ip_proto', 'ip_len_std', 'ip_len_cv', 'tcp_flags_rte'] \n",
      " Labels: ['http_flood' 'http_slow' 'normal' 'tcp_flood' 'udp_flood']\n"
     ]
    },
    {
     "name": "stderr",
     "output_type": "stream",
     "text": [
      "/home/rithik/Desktop/env/lib/python3.8/site-packages/sklearn/metrics/_classification.py:1221: UndefinedMetricWarning: Precision and F-score are ill-defined and being set to 0.0 in labels with no predicted samples. Use `zero_division` parameter to control this behavior.\n",
      "  _warn_prf(average, modifier, msg_start, len(result))\n"
     ]
    },
    {
     "name": "stdout",
     "output_type": "stream",
     "text": [
      "              precision    recall  f1-score   support\n",
      "\n",
      "  http_flood       0.00      0.00      0.00       166\n",
      "   tcp_flood       0.00      0.00      0.00        81\n",
      "   udp_flood       0.98      0.97      0.98     11444\n",
      "      normal       0.95      0.99      0.97      7560\n",
      "   http_slow       1.00      1.00      1.00      3499\n",
      "\n",
      "    accuracy                           0.97     22750\n",
      "   macro avg       0.59      0.59      0.59     22750\n",
      "weighted avg       0.96      0.97      0.97     22750\n",
      "\n",
      "-----------------------------------------------------------------------------------\n",
      "Precision:  0.963100887012544\n",
      "Accuracy:  0.9734065934065934\n",
      "-----------------------------------------------------------------------------------\n"
     ]
    },
    {
     "data": {
      "text/plain": [
       "<Figure size 648x432 with 0 Axes>"
      ]
     },
     "metadata": {},
     "output_type": "display_data"
    },
    {
     "data": {
      "text/plain": [
       "<Figure size 648x432 with 0 Axes>"
      ]
     },
     "metadata": {},
     "output_type": "display_data"
    },
    {
     "data": {
      "text/plain": [
       "<Figure size 648x432 with 0 Axes>"
      ]
     },
     "metadata": {},
     "output_type": "display_data"
    },
    {
     "data": {
      "text/plain": [
       "<Figure size 648x432 with 0 Axes>"
      ]
     },
     "metadata": {},
     "output_type": "display_data"
    },
    {
     "data": {
      "text/plain": [
       "<Figure size 648x432 with 0 Axes>"
      ]
     },
     "metadata": {},
     "output_type": "display_data"
    }
   ],
   "source": [
    "select_feature=selectfeatures(\"../data/dataset_descriptor.csv\",0.99, 0.95, 0.85,5,5)\n",
    "select_feature.main()"
   ]
  },
  {
   "cell_type": "code",
   "execution_count": null,
   "metadata": {},
   "outputs": [],
   "source": []
  }
 ],
 "metadata": {
  "kernelspec": {
   "display_name": "Python 3",
   "language": "python",
   "name": "python3"
  },
  "language_info": {
   "codemirror_mode": {
    "name": "ipython",
    "version": 3
   },
   "file_extension": ".py",
   "mimetype": "text/x-python",
   "name": "python",
   "nbconvert_exporter": "python",
   "pygments_lexer": "ipython3",
   "version": "3.8.5"
  }
 },
 "nbformat": 4,
 "nbformat_minor": 4
}
